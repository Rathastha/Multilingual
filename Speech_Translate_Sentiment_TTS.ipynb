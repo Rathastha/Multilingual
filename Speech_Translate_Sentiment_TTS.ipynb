{
  "cells": [
    {
      "cell_type": "markdown",
      "metadata": {},
      "source": [
        "# Speech Recognition, Translation, Sentiment Analysis, and Text-to-Speech\n",
        "This notebook recognizes English speech, analyzes its sentiment, translates it to German, and speaks out the translated text."
      ]
    },
    {
      "cell_type": "code",
      "execution_count": null,
      "metadata": {},
      "outputs": [],
      "source": [
        "# Required installations\n",
        "!pip install SpeechRecognition googletrans==4.0.0-rc1 gTTS playsound==1.2.2 TextBlob pyaudio"
      ]
    },
    {
      "cell_type": "code",
      "execution_count": null,
      "metadata": {},
      "outputs": [],
      "source": [
        "# Imports\n",
        "import speech_recognition as sr\n",
        "from googletrans import Translator\n",
        "from gtts import gTTS\n",
        "from textblob import TextBlob\n",
        "import playsound\n",
        "import os"
      ]
    },
    {
      "cell_type": "code",
      "execution_count": null,
      "metadata": {},
      "outputs": [],
      "source": [
        "# Function to recognize speech\n",
        "def recognize_speech():\n",
        "    recognizer = sr.Recognizer()\n",
        "    with sr.Microphone() as source:\n",
        "        print(\"Speak something in English...\")\n",
        "        recognizer.adjust_for_ambient_noise(source)\n",
        "        audio = recognizer.listen(source)\n",
        "    try:\n",
        "        text = recognizer.recognize_google(audio)\n",
        "        print(f\"Recognized English Text: {text}\")\n",
        "        return text\n",
        "    except sr.UnknownValueError:\n",
        "        print(\"Sorry, could not understand your speech.\")\n",
        "    except sr.RequestError:\n",
        "        print(\"Request failed. Please check your internet connection.\")\n",
        "    return None"
      ]
    },
    {
      "cell_type": "code",
      "execution_count": null,
      "metadata": {},
      "outputs": [],
      "source": [
        "# Function to analyze sentiment\n",
        "def analyze_sentiment(text):\n",
        "    blob = TextBlob(text)\n",
        "    polarity = blob.sentiment.polarity\n",
        "    print(f\"Sentiment Polarity: {polarity}\")\n",
        "    return polarity"
      ]
    },
    {
      "cell_type": "code",
      "execution_count": null,
      "metadata": {},
      "outputs": [],
      "source": [
        "# Function to translate text to another language\n",
        "def translate_text(text, dest_lang='de'):\n",
        "    translator = Translator()\n",
        "    translated = translator.translate(text, dest=dest_lang)\n",
        "    print(f\"Translated Text ({dest_lang}): {translated.text}\")\n",
        "    return translated.text"
      ]
    },
    {
      "cell_type": "code",
      "execution_count": null,
      "metadata": {},
      "outputs": [],
      "source": [
        "# Function to convert text to speech\n",
        "def speak_text(text, lang='de'):\n",
        "    tts = gTTS(text=text, lang=lang)\n",
        "    filename = \"output.mp3\"\n",
        "    tts.save(filename)\n",
        "    playsound.playsound(filename)\n",
        "    os.remove(filename)"
      ]
    },
    {
      "cell_type": "code",
      "execution_count": null,
      "metadata": {},
      "outputs": [],
      "source": [
        "# Main function\n",
        "def main():\n",
        "    speech_text = recognize_speech()\n",
        "    if speech_text:\n",
        "        analyze_sentiment(speech_text)\n",
        "        translated_text = translate_text(speech_text, dest_lang='de')\n",
        "        speak_text(translated_text, lang='de')\n",
        "\n",
        "main()"
      ]
    }
  ],
  "metadata": {
    "kernelspec": {
      "display_name": "Python 3",
      "language": "python",
      "name": "python3"
    },
    "language_info": {
      "name": "python",
      "version": ""
    }
  },
  "nbformat": 4,
  "nbformat_minor": 2
}